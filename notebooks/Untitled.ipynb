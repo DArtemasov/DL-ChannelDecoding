{
 "cells": [
  {
   "cell_type": "code",
   "execution_count": 1,
   "id": "9a932b47-f296-481f-a7fe-2b53cf8b37f8",
   "metadata": {},
   "outputs": [],
   "source": [
    "import numpy as np\n",
    "import matplotlib.pyplot as plt\n",
    "from tqdm.notebook import tqdm\n",
    "from joblib import Parallel, delayed\n",
    "%matplotlib inline"
   ]
  },
  {
   "cell_type": "code",
   "execution_count": 2,
   "id": "567441f6-1b78-4e7e-a184-745871e85c28",
   "metadata": {},
   "outputs": [],
   "source": [
    " # Generate complex-valued noise\n",
    "def gen_noise(N, snr_db):\n",
    "    # Do not forget np.sqrt(1/2) factor for CN circular noise!\n",
    "    sigma = np.sqrt(1 / (2 * 10 ** (snr_db / 10)))\n",
    "    z_re = np.random.normal(0, 1, size=(N,))\n",
    "    z_im = np.random.normal(0, 1, size=(N,))\n",
    "    return (z_re + 1j * z_im) * sigma  # The total power is 2 * sigma^2"
   ]
  },
  {
   "cell_type": "code",
   "execution_count": 3,
   "id": "eac6680a-9da1-4032-9c1b-0e0f644d3e8c",
   "metadata": {},
   "outputs": [],
   "source": [
    "# Implementation of parallel computation with the help of Parallel library\n",
    "class ProgressParallel(Parallel):\n",
    "    def __init__(self, use_tqdm=True, total=None, desc='', *args, **kwargs):\n",
    "        self._use_tqdm = use_tqdm\n",
    "        self._total = total\n",
    "        self._desc = desc\n",
    "        super().__init__(*args, **kwargs)\n",
    "\n",
    "    def __call__(self, *args, **kwargs):\n",
    "        with tqdm(disable=not self._use_tqdm, total=self._total, desc=self._desc) as self._pbar:\n",
    "            return Parallel.__call__(self, *args, **kwargs)\n",
    "\n",
    "# TQDM progress bar\n",
    "    def print_progress(self):\n",
    "        if self._total is None:\n",
    "            self._pbar.total = self.n_dispatched_tasks\n",
    "        self._pbar.n = self.n_completed_tasks\n",
    "        self._pbar.refresh()\n",
    "\n",
    "        \n",
    "def simulate(snr_db_range, max_errors, experiment_func):\n",
    "    \n",
    "    def simulation(snr_db):\n",
    "        n_errors, n_experiments = 0, 0\n",
    "        while n_errors < max_errors:\n",
    "            n_errors += experiment_func(snr_db)\n",
    "            n_experiments += 1\n",
    "        return n_errors / n_experiments\n",
    "    \n",
    "    p_e = np.asarray(ProgressParallel(n_jobs=-1, total=len(snr_db_range), desc=f'step:')([\n",
    "        delayed(simulation)(snr_db) for snr_db in snr_db_range]))\n",
    "    \n",
    "    # Plot results:\n",
    "    plt.plot(snr_db_range, p_e)\n",
    "    plt.yscale('log')\n",
    "    plt.xlabel('Signal-to-noise ratio [dB]')\n",
    "    plt.ylabel('Error rate')\n",
    "    plt.grid()\n",
    "    plt.legend([2,4,8,16])"
   ]
  },
  {
   "cell_type": "code",
   "execution_count": 4,
   "id": "73f18f92-a006-43c7-9b30-305266eb0f61",
   "metadata": {},
   "outputs": [],
   "source": [
    "def get_H_rayleigh(n_tx, n_rx):\n",
    "    return np.matrix(np.random.randn(n_rx, n_tx) + 1j * np.random.randn(n_rx, n_tx)) / np.sqrt(2 * n_tx)\n",
    "\n",
    "\n",
    "# BPSK V-BLAST transmitter, CSI known at receiver only - equal power allocation\n",
    "def generate_received_signal(n_tx, n_rx, snr_db):\n",
    "    H = get_H_rayleigh(n_tx, n_rx)\n",
    "    x = np.random.randint(0, 2, size=n_tx,)\n",
    "    y = H * np.matrix(1 - 2 * x).T + np.matrix(gen_noise(n_rx, snr_db)).T\n",
    "    return x, y, H"
   ]
  },
  {
   "cell_type": "markdown",
   "id": "bdfc2df6-6d5c-47df-9de5-dc198a0f5429",
   "metadata": {},
   "source": [
    "### Maximum likelihood MIMO detection routines"
   ]
  },
  {
   "cell_type": "code",
   "execution_count": 5,
   "id": "f048dce5-97a6-49d1-b641-6c4409bfe913",
   "metadata": {},
   "outputs": [],
   "source": [
    "# Convert integer to binary array\n",
    "def de2bi(val, out_len):\n",
    "    val_array = [int(x) for x in list('{0:0b}'.format(val))]\n",
    "    return [0] * (out_len - len(val_array)) + val_array\n",
    "\n",
    "# Generate 2**N possible transmitted combinations\n",
    "def gen_iwd_book(N):\n",
    "    n_cwd = 2 ** N\n",
    "    iwd_book = np.zeros((2 ** N, N))\n",
    "    for i in range(n_cwd):\n",
    "        iwd_book[i, :] = de2bi(i, N)\n",
    "    return iwd_book\n",
    "\n",
    "\n",
    "# Find the closest point to the received signal among all possible\n",
    "# combinations transmitted\n",
    "def ml_detector(snr_db, n_tx, n_rx):\n",
    "    x, y, H = generate_received_signal(n_tx, n_rx, snr_db)\n",
    "\n",
    "    iwd_book = gen_iwd_book(n_tx)\n",
    "    iwd_book_bpsk = np.matrix(1 - 2 * iwd_book).T\n",
    "\n",
    "    y_vec = H * iwd_book_bpsk\n",
    "    distance = np.linalg.norm(y_vec - y, axis=0) ** 2\n",
    "    iwd_best_id = np.argmin(distance)\n",
    "    x_hat = iwd_book[iwd_best_id, :]\n",
    "    return np.mean(x_hat != x)\n",
    "\n",
    "\n",
    "def mse_detector(snr_db, n_tx, n_rx):\n",
    "    x, y, H = generate_received_signal(n_tx, n_rx, snr_db)\n",
    "    x_hat = np.linalg.pinv(H) * y\n",
    "    decoded = []\n",
    "    for i in range (x_hat.shape[0]):\n",
    "        if (x_hat[i] > 0):\n",
    "            decoded.append(0)\n",
    "        else:\n",
    "            decoded.append(1)\n",
    "    return np.mean(decoded != x)\n",
    "\n",
    "def create_words(code):\n",
    "    # Create all possible information words\n",
    "    d = np.zeros((2**k,k),dtype=bool)\n",
    "    for i in range(1,2**k):\n",
    "        d[i]= inc_bool(d[i-1])\n",
    "\n",
    "    # Create sets of all possible codewords (codebook)\n",
    "    if code == 'polar':   \n",
    "\n",
    "        A = polar_design_awgn(N, k, design_snr_dB=0)  # logical vector indicating the nonfrozen bit locations \n",
    "        x = np.zeros((2**k, N),dtype=bool)\n",
    "        u = np.zeros((2**k, N),dtype=bool)\n",
    "        u[:,A] = d\n",
    "\n",
    "        for i in range(0,2**k):\n",
    "            x[i] = polar_transform_iter(u[i])\n",
    "        return x, d, A\n",
    "\n",
    "    elif code == 'random':\n",
    "\n",
    "        np.random.seed(4267)   # for a 16bit Random Code (r=0.5) with Hamming distance >= 2\n",
    "        x = np.random.randint(0,2,size=(2**k,N), dtype=bool)\n",
    "        return x, d"
   ]
  },
  {
   "cell_type": "markdown",
   "id": "405d9510-593c-4849-a5f0-fee1c4cc697f",
   "metadata": {},
   "source": [
    "## Numerical experiments"
   ]
  },
  {
   "cell_type": "code",
   "execution_count": 6,
   "id": "922a8dc5-4bc6-4325-8468-991c93cfb902",
   "metadata": {},
   "outputs": [
    {
     "name": "stdout",
     "output_type": "stream",
     "text": [
      "Evaluating the ML detector\n"
     ]
    },
    {
     "data": {
      "application/vnd.jupyter.widget-view+json": {
       "model_id": "7e0196d81ebb40b08bab39da450e1f21",
       "version_major": 2,
       "version_minor": 0
      },
      "text/plain": [
       "step::   0%|          | 0/5 [00:00<?, ?it/s]"
      ]
     },
     "metadata": {},
     "output_type": "display_data"
    },
    {
     "name": "stdout",
     "output_type": "stream",
     "text": [
      "Evaluating the MSE detector\n"
     ]
    },
    {
     "data": {
      "application/vnd.jupyter.widget-view+json": {
       "model_id": "64fe0b6231ec42bb92a6e29bbd7dc8f3",
       "version_major": 2,
       "version_minor": 0
      },
      "text/plain": [
       "step::   0%|          | 0/5 [00:00<?, ?it/s]"
      ]
     },
     "metadata": {},
     "output_type": "display_data"
    },
    {
     "data": {
      "image/png": "[encoded data removed]",
      "text/plain": [
       "<Figure size 432x288 with 1 Axes>"
      ]
     },
     "metadata": {
      "needs_background": "light"
     },
     "output_type": "display_data"
    }
   ],
   "source": [
    "snr_range = np.arange(-0, 5)\n",
    "n_tx = 4  # Transmitter antenna count\n",
    "n_rx = 8  # Receiver antenna count\n",
    "\n",
    "n_errors = 100 # Maximum number of errors\n",
    "print('Evaluating the ML detector')\n",
    "simulate(snr_range, n_errors,\n",
    "    lambda x: ml_detector(x, n_tx, n_rx)\n",
    ")\n",
    "\n",
    "print('Evaluating the MSE detector')\n",
    "simulate(snr_range, n_errors,\n",
    "    lambda x: mse_detector(x, n_tx, n_rx)\n",
    ")\n",
    "\n",
    "plt.legend(['ML', 'MSE'])\n",
    "plt.grid()"
   ]
  },
  {
   "cell_type": "code",
   "execution_count": null,
   "id": "7a26726a-22e8-4ef8-9b4d-a3657086c3ad",
   "metadata": {},
   "outputs": [],
   "source": []
  }
 ],
 "metadata": {
  "kernelspec": {
   "display_name": "Python 3",
   "language": "python",
   "name": "python3"
  },
  "language_info": {
   "codemirror_mode": {
    "name": "ipython",
    "version": 3
   },
   "file_extension": ".py",
   "mimetype": "text/x-python",
   "name": "python",
   "nbconvert_exporter": "python",
   "pygments_lexer": "ipython3",
   "version": "3.8.8"
  }
 },
 "nbformat": 4,
 "nbformat_minor": 5
}
