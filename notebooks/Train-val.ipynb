{
 "cells": [
  {
   "cell_type": "markdown",
   "metadata": {},
   "source": [
    "# On Deep Learning-Based Channel Decoding\n",
    "\n",
    "If you want to cite this notebook, please use the following bibtext entry:\n",
    "\n",
    "    @article{nn-decoding,\n",
    "      title={On Deep Learning-Based Channel Decoding},\n",
    "      author={Tobias Gruber and\n",
    "              Sebastian Cammerer and\n",
    "              Jakob Hoydis and\n",
    "              Stephan ten Brink}\n",
    "      journal={CoRR}\n",
    "      year={2017}\n",
    "      url= {http://arxiv.org/abs/1701.07738}\n",
    "    }\n",
    "\n",
    "Running this example requires Keras installed with the Theano backend. For GPU support nvidia-docker is required. A Dockerfile is provided to employ this setup quickly.\n",
    "\n",
    "Our simulation setup was inspired by material from http://radioml.org.\n"
   ]
  },
  {
   "cell_type": "code",
   "execution_count": 1,
   "metadata": {
    "collapsed": false,
    "jupyter": {
     "outputs_hidden": false
    }
   },
   "outputs": [
    {
     "data": {
      "text/plain": [
       "[]"
      ]
     },
     "execution_count": 1,
     "metadata": {},
     "output_type": "execute_result"
    }
   ],
   "source": [
    "import numpy as np\n",
    "import tensorflow as tf\n",
    "from keras.models import Sequential\n",
    "from keras.layers.core import Dense, Lambda\n",
    "from keras import backend as K\n",
    "import matplotlib.pyplot as plt\n",
    "%matplotlib inline\n",
    "tf.config.list_physical_devices('GPU')"
   ]
  },
  {
   "cell_type": "markdown",
   "metadata": {
    "tags": []
   },
   "source": [
    "# Base parameters"
   ]
  },
  {
   "cell_type": "code",
   "execution_count": 28,
   "metadata": {
    "tags": []
   },
   "outputs": [],
   "source": [
    "k = 16                       # number of information bits\n",
    "N = 32                      # code length\n",
    "train_SNR_Eb = 1            # training-Eb/No\n",
    "\n",
    "nb_epoch = 2**14 \n",
    "\n",
    "\n",
    "design = [128, 64, 32]      # each list entry defines the number of nodes in a layer\n",
    "batch_size = 2**k            # size of batches for calculation the gradient\n",
    "LLR = False                 # 'True' enables the log-likelihood-ratio layer\n",
    "optimizer = 'adam'           \n",
    "loss = 'mse'                # or 'binary_crossentropy'\n",
    "\n",
    "train_SNR_Es = train_SNR_Eb + 10*np.log10(k/N)\n",
    "train_sigma = np.sqrt(1/(2*10**(train_SNR_Es/10)))"
   ]
  },
  {
   "cell_type": "markdown",
   "metadata": {
    "tags": []
   },
   "source": [
    "# Define NN model"
   ]
  },
  {
   "cell_type": "code",
   "execution_count": 29,
   "metadata": {
    "tags": []
   },
   "outputs": [],
   "source": [
    "def modulateBPSK(x):\n",
    "    return -2*x +1;\n",
    "\n",
    "def addNoise(x, sigma):\n",
    "    w = K.random_normal(K.shape(x), mean=0.0, stddev=sigma)        # std was changed to stddev \n",
    "    return x + w\n",
    "\n",
    "def ber(y_true, y_pred):\n",
    "    return K.mean(K.not_equal(y_true, K.round(y_pred)))    \n",
    "\n",
    "def return_output_shape(input_shape):  \n",
    "    return input_shape\n",
    "\n",
    "def compose_model(layers):\n",
    "    model = Sequential()\n",
    "    for layer in layers:\n",
    "        model.add(layer)\n",
    "    return model\n",
    "\n",
    "def log_likelihood_ratio(x, sigma):   \n",
    "    return 2*x/np.float32(sigma**2)\n",
    "\n",
    "def errors(y_true, y_pred):\n",
    "    return K.sum(int(K.not_equal(y_true, K.round(y_pred))))"
   ]
  },
  {
   "cell_type": "code",
   "execution_count": 30,
   "metadata": {
    "collapsed": false,
    "jupyter": {
     "outputs_hidden": false
    }
   },
   "outputs": [],
   "source": [
    "# Define modulator\n",
    "modulator_layers = [Lambda(modulateBPSK, \n",
    "                          input_shape=(N,), output_shape=return_output_shape, name=\"modulator\")]\n",
    "modulator = compose_model(modulator_layers)\n",
    "modulator.compile(optimizer=optimizer, loss=loss)\n",
    "\n",
    "# Define noise\n",
    "noise_layers = [Lambda(addNoise, arguments={'sigma':train_sigma}, \n",
    "                       input_shape=(N,), output_shape=return_output_shape, name=\"noise\")]\n",
    "noise = compose_model(noise_layers)\n",
    "noise.compile(optimizer=optimizer, loss=loss)\n",
    "\n",
    "# Define LLR\n",
    "llr_layers = [Lambda(log_likelihood_ratio, arguments={'sigma':train_sigma}, \n",
    "                     input_shape=(N,), output_shape=return_output_shape, name=\"LLR\")]\n",
    "llr = compose_model(llr_layers)\n",
    "llr.compile(optimizer=optimizer, loss=loss)\n",
    "\n",
    "# Define decoder \n",
    "decoder_layers = [Dense(design[0], activation='relu', input_shape=(N,))]\n",
    "for i in range(1,len(design)):\n",
    "    decoder_layers.append(Dense(design[i], activation='relu'))\n",
    "decoder_layers.append(Dense(k, activation='sigmoid'))\n",
    "decoder = compose_model(decoder_layers)\n",
    "decoder.compile(optimizer=optimizer, loss=loss, metrics=[errors])\n",
    "\n",
    "# Define model\n",
    "if LLR:\n",
    "    model_layers = modulator_layers + noise_layers + llr_layers + decoder_layers\n",
    "else:\n",
    "    model_layers = modulator_layers + noise_layers + decoder_layers\n",
    "model = compose_model(model_layers)\n",
    "model.compile(optimizer=optimizer, loss=loss, metrics=[ber])"
   ]
  },
  {
   "cell_type": "markdown",
   "metadata": {
    "tags": []
   },
   "source": [
    "# Data Generation"
   ]
  },
  {
   "cell_type": "code",
   "execution_count": 31,
   "metadata": {
    "tags": []
   },
   "outputs": [],
   "source": [
    "def half_adder(a,b):\n",
    "    s = a ^ b\n",
    "    c = a & b\n",
    "    return s,c\n",
    "\n",
    "def full_adder(a,b,c):\n",
    "    s = (a ^ b) ^ c\n",
    "    c = (a & b) | (c & (a ^ b))\n",
    "    return s,c\n",
    "\n",
    "def add_bool(a,b):\n",
    "    if len(a) != len(b):\n",
    "        raise ValueError('arrays with different length')\n",
    "    k = len(a)\n",
    "    s = np.zeros(k,dtype=bool)\n",
    "    c = False\n",
    "    for i in reversed(range(0,k)):\n",
    "        s[i], c = full_adder(a[i],b[i],c)    \n",
    "    if c:\n",
    "        warnings.warn(\"Addition overflow!\")\n",
    "    return s\n",
    "\n",
    "def inc_bool(a):\n",
    "    k = len(a)\n",
    "    increment = np.hstack((np.zeros(k-1,dtype=bool), np.ones(1,dtype=bool)))\n",
    "    a = add_bool(a,increment)\n",
    "    return a\n",
    "\n",
    "def bitrevorder(x):\n",
    "    m = np.amax(x)\n",
    "    n = np.ceil(np.log2(m)).astype(int)\n",
    "    for i in range(0,len(x)):\n",
    "        x[i] = int('{:0{n}b}'.format(x[i],n=n)[::-1],2)  \n",
    "    return x\n",
    "\n",
    "def int2bin(x,N):\n",
    "    if isinstance(x, list) or isinstance(x, np.ndarray):\n",
    "        binary = np.zeros((len(x),N),dtype='bool')\n",
    "        for i in range(0,len(x)):\n",
    "            binary[i] = np.array([int(j) for j in bin(x[i])[2:].zfill(N)])\n",
    "    else:\n",
    "        binary = np.array([int(j) for j in bin(x)[2:].zfill(N)],dtype=bool)\n",
    "    \n",
    "    return binary\n",
    "\n",
    "def bin2int(b):\n",
    "    if isinstance(b[0], list):\n",
    "        integer = np.zeros((len(b),),dtype=int)\n",
    "        for i in range(0,len(b)):\n",
    "            out = 0\n",
    "            for bit in b[i]:\n",
    "                out = (out << 1) | bit\n",
    "            integer[i] = out\n",
    "    elif isinstance(b, np.ndarray):\n",
    "        if len(b.shape) == 1:\n",
    "            out = 0\n",
    "            for bit in b:\n",
    "                out = (out << 1) | bit\n",
    "            integer = out     \n",
    "        else:\n",
    "            integer = np.zeros((b.shape[0],),dtype=int)\n",
    "            for i in range(0,b.shape[0]):\n",
    "                out = 0\n",
    "                for bit in b[i]:\n",
    "                    out = (out << 1) | bit\n",
    "                integer[i] = out\n",
    "        \n",
    "    return integer\n",
    "\n",
    "def polar_design_awgn(N, k, design_snr_dB):  \n",
    "        \n",
    "    S = 10**(design_snr_dB/10)\n",
    "    z0 = np.zeros(N)\n",
    "\n",
    "    z0[0] = np.exp(-S)\n",
    "    for j in range(1,int(np.log2(N))+1):\n",
    "        u = 2**j\n",
    "        for t in range(0,int(u/2)):\n",
    "            T = z0[t]\n",
    "            z0[t] = 2*T - T**2     # upper channel\n",
    "            z0[int(u/2)+t] = T**2  # lower channel\n",
    "        \n",
    "    # sort into increasing order\n",
    "    idx = np.argsort(z0)\n",
    "        \n",
    "    # select k best channels\n",
    "    idx = np.sort(bitrevorder(idx[0:k]))\n",
    "    \n",
    "    A = np.zeros(N, dtype=bool)\n",
    "    A[idx] = True\n",
    "        \n",
    "    return A\n",
    "\n",
    "def polar_transform_iter(u):\n",
    "\n",
    "    N = len(u)\n",
    "    n = 1\n",
    "    x = np.copy(u)\n",
    "    stages = np.log2(N).astype(int)\n",
    "    for s in range(0,stages):\n",
    "        i = 0\n",
    "        while i < N:\n",
    "            for j in range(0,n):\n",
    "                idx = i+j\n",
    "                x[idx] = x[idx] ^ x[idx+n]\n",
    "            i=i+2*n\n",
    "        n=2*n\n",
    "    return x"
   ]
  },
  {
   "cell_type": "code",
   "execution_count": 32,
   "metadata": {
    "tags": []
   },
   "outputs": [],
   "source": [
    "def create_words(code):\n",
    "    # Create all possible information words\n",
    "    d = np.zeros((2**k,k),dtype=bool)\n",
    "    for i in range(1,2**k):\n",
    "        d[i]= inc_bool(d[i-1])\n",
    "\n",
    "    # Create sets of all possible codewords (codebook)\n",
    "    if code == 'polar':   \n",
    "\n",
    "        A = polar_design_awgn(N, k, design_snr_dB=0)  # logical vector indicating the nonfrozen bit locations \n",
    "        x = np.zeros((2**k, N),dtype=bool)\n",
    "        u = np.zeros((2**k, N),dtype=bool)\n",
    "        u[:,A] = d\n",
    "\n",
    "        for i in range(0,2**k):\n",
    "            x[i] = polar_transform_iter(u[i])\n",
    "        return x, d, A\n",
    "\n",
    "    elif code == 'random':\n",
    "\n",
    "        np.random.seed(4267)   # for a 16bit Random Code (r=0.5) with Hamming distance >= 2\n",
    "        x = np.random.randint(0,2,size=(2**k,N), dtype=bool)\n",
    "        return x, d"
   ]
  },
  {
   "cell_type": "markdown",
   "metadata": {
    "tags": []
   },
   "source": [
    "# Influence of the number of epochs on the BER (128-64-32 NN, k=8, N=16)\n"
   ]
  },
  {
   "cell_type": "markdown",
   "metadata": {
    "tags": []
   },
   "source": [
    "## Polar codes"
   ]
  },
  {
   "cell_type": "code",
   "execution_count": 33,
   "metadata": {},
   "outputs": [],
   "source": [
    "code = 'polar'              # type of code ('random' or 'polar')\n",
    "codewords, inputs, log_vector = create_words(code)"
   ]
  },
  {
   "cell_type": "markdown",
   "metadata": {
    "tags": []
   },
   "source": [
    "### Train and test model"
   ]
  },
  {
   "cell_type": "code",
   "execution_count": 82,
   "metadata": {},
   "outputs": [],
   "source": [
    "steps = list((2**k * np.array([0.5, 0.75])).astype(int))"
   ]
  },
  {
   "cell_type": "code",
   "execution_count": 83,
   "metadata": {
    "collapsed": false,
    "jupyter": {
     "outputs_hidden": false
    }
   },
   "outputs": [],
   "source": [
    "test_batch = 1000\n",
    "num_words = 10000      # multiple of test_batch\n",
    "\n",
    "SNR_dB_start_Eb = 0\n",
    "SNR_dB_stop_Eb = 5\n",
    "SNR_points = 20\n",
    "\n",
    "SNR_dB_start_Es = SNR_dB_start_Eb + 10*np.log10(k/N)\n",
    "SNR_dB_stop_Es = SNR_dB_stop_Eb + 10*np.log10(k/N)\n",
    "\n",
    "sigma_start = np.sqrt(1/(2*10**(SNR_dB_start_Es/10)))\n",
    "sigma_stop = np.sqrt(1/(2*10**(SNR_dB_stop_Es/10)))\n",
    "sigmas = np.linspace(sigma_start, sigma_stop, SNR_points)\n",
    "\n",
    "nb_errors = np.zeros((len(steps),len(sigmas)),dtype=int)\n",
    "nb_bits = np.zeros((len(steps),len(sigmas)),dtype=int)"
   ]
  },
  {
   "cell_type": "code",
   "execution_count": 84,
   "metadata": {
    "tags": []
   },
   "outputs": [
    {
     "name": "stdout",
     "output_type": "stream",
     "text": [
      "Model: \"sequential_9\"\n",
      "_________________________________________________________________\n",
      " Layer (type)                Output Shape              Param #   \n",
      "=================================================================\n",
      " modulator (Lambda)          (None, 32)                0         \n",
      "                                                                 \n",
      " noise (Lambda)              (None, 32)                0         \n",
      "                                                                 \n",
      " dense_4 (Dense)             (None, 128)               4224      \n",
      "                                                                 \n",
      " dense_5 (Dense)             (None, 64)                8256      \n",
      "                                                                 \n",
      " dense_6 (Dense)             (None, 32)                2080      \n",
      "                                                                 \n",
      " dense_7 (Dense)             (None, 16)                528       \n",
      "                                                                 \n",
      "=================================================================\n",
      "Total params: 15,088\n",
      "Trainable params: 15,088\n",
      "Non-trainable params: 0\n",
      "_________________________________________________________________\n",
      "fit 1 of 2\n",
      "decode 1 of 2\n",
      "fit 2 of 2\n",
      "decode 2 of 2\n",
      "CPU times: user 1h 35min 27s, sys: 17min 23s, total: 1h 52min 50s\n",
      "Wall time: 38min 39s\n"
     ]
    }
   ],
   "source": [
    "%%time\n",
    "model.summary()\n",
    "\n",
    "for step in steps:\n",
    "\n",
    "    codewords_train = codewords[:step,]\n",
    "    codewords_test = codewords[step:,]\n",
    "    \n",
    "    inputs_train = inputs[:step,]\n",
    "    inputs_test = inputs[step:,]\n",
    "    \n",
    "    print(f'fit {steps.index(step)+1} of {len(steps)}')\n",
    "    history = model.fit(codewords_train, inputs_train, batch_size=batch_size, epochs=nb_epoch, verbose=0, shuffle=True)\n",
    "\n",
    "\n",
    "\n",
    "    print(f'decode {steps.index(step)+1} of {len(steps)}')\n",
    "    for i in range(0,len(sigmas)):\n",
    "\n",
    "        for ii in range(0,np.round(num_words/test_batch).astype(int)):\n",
    "\n",
    "            # Source\n",
    "            np.random.seed(0)\n",
    "            d_test = np.random.randint(0,2,size=(test_batch,k)) \n",
    "\n",
    "            # Encoder\n",
    "            if code == 'polar':\n",
    "                x_test = np.zeros((test_batch, N),dtype=bool)\n",
    "                u_test = np.zeros((test_batch, N),dtype=bool)\n",
    "                u_test[:,log_vector] = d_test\n",
    "\n",
    "                for iii in range(0,test_batch):\n",
    "                    x_test[iii] = polar_transform_iter(u_test[iii])\n",
    "\n",
    "            elif code == 'random':\n",
    "                x_test = np.zeros((test_batch, N),dtype=bool)\n",
    "                for iii in range(0,test_batch):\n",
    "                    x_test[iii] = codewords_test[bin2int(d_test[iii])]\n",
    "\n",
    "            # Modulator (BPSK)\n",
    "            s_test = -2*x_test + 1\n",
    "\n",
    "            # Channel (AWGN)\n",
    "            y_test = s_test + sigmas[i]*np.random.standard_normal(s_test.shape)\n",
    "\n",
    "            if LLR:\n",
    "                y_test = 2*y_test/(sigmas[i]**2)\n",
    "\n",
    "            # Decoder\n",
    "            nb_bits[steps.index(step)][i] += d_test.size\n",
    "            nb_errors[steps.index(step)][i] += decoder.evaluate(y_test, d_test, batch_size=test_batch, verbose=0)[1]\n",
    "            \n",
    "            np.savetxt(f'eval_train-val/{code}/bits_{code}_{N}_{k}_{steps}.out', nb_bits, delimiter=', ')\n",
    "            np.savetxt(f'eval_train-val/{code}/errors_{code}_{N}_{k}_{steps}.out', nb_errors, delimiter=', ')"
   ]
  },
  {
   "cell_type": "code",
   "execution_count": 86,
   "metadata": {
    "tags": []
   },
   "outputs": [
    {
     "name": "stdout",
     "output_type": "stream",
     "text": [
      "Model: \"sequential_9\"\n",
      "_________________________________________________________________\n",
      " Layer (type)                Output Shape              Param #   \n",
      "=================================================================\n",
      " modulator (Lambda)          (None, 32)                0         \n",
      "                                                                 \n",
      " noise (Lambda)              (None, 32)                0         \n",
      "                                                                 \n",
      " dense_4 (Dense)             (None, 128)               4224      \n",
      "                                                                 \n",
      " dense_5 (Dense)             (None, 64)                8256      \n",
      "                                                                 \n",
      " dense_6 (Dense)             (None, 32)                2080      \n",
      "                                                                 \n",
      " dense_7 (Dense)             (None, 16)                528       \n",
      "                                                                 \n",
      "=================================================================\n",
      "Total params: 15,088\n",
      "Trainable params: 15,088\n",
      "Non-trainable params: 0\n",
      "_________________________________________________________________\n",
      "CPU times: user 1h 17min 24s, sys: 15min 47s, total: 1h 33min 12s\n",
      "Wall time: 31min 45s\n"
     ]
    }
   ],
   "source": [
    "%%time\n",
    "model.summary()\n",
    "    \n",
    "history = model.fit(codewords, inputs, batch_size=batch_size, epochs=nb_epoch, verbose=0, shuffle=True)\n",
    "\n",
    "for i in range(0,len(sigmas)):\n",
    "\n",
    "    for ii in range(0,np.round(num_words/test_batch).astype(int)):\n",
    "\n",
    "        # Source\n",
    "        np.random.seed(0)\n",
    "        d_test = np.random.randint(0,2,size=(test_batch,k)) \n",
    "\n",
    "        # Encoder\n",
    "        if code == 'polar':\n",
    "            x_test = np.zeros((test_batch, N),dtype=bool)\n",
    "            u_test = np.zeros((test_batch, N),dtype=bool)\n",
    "            u_test[:,log_vector] = d_test\n",
    "\n",
    "            for iii in range(0,test_batch):\n",
    "                x_test[iii] = polar_transform_iter(u_test[iii])\n",
    "\n",
    "        elif code == 'random':\n",
    "            x_test = np.zeros((test_batch, N),dtype=bool)\n",
    "            for iii in range(0,test_batch):\n",
    "                x_test[iii] = codewords[bin2int(d_test[iii])]\n",
    "\n",
    "        # Modulator (BPSK)\n",
    "        s_test = -2*x_test + 1\n",
    "\n",
    "        # Channel (AWGN)\n",
    "        y_test = s_test + sigmas[i]*np.random.standard_normal(s_test.shape)\n",
    "\n",
    "        if LLR:\n",
    "            y_test = 2*y_test/(sigmas[i]**2)\n",
    "\n",
    "        # Decoder\n",
    "        nb_bits_full[i] += d_test.size\n",
    "        nb_errors_full[i] += decoder.evaluate(y_test, d_test, batch_size=test_batch, verbose=0)[1]\n",
    "\n",
    "        np.savetxt(f'eval_train-val/{code}/bits_{code}_{N}_{k}_full.out', nb_bits_full, delimiter=', ')\n",
    "        np.savetxt(f'eval_train-val/{code}/errors_{code}_{N}_{k}_full.out', nb_errors_full, delimiter=', ')"
   ]
  },
  {
   "cell_type": "markdown",
   "metadata": {
    "tags": []
   },
   "source": [
    "### Load data"
   ]
  },
  {
   "cell_type": "code",
   "execution_count": 22,
   "metadata": {},
   "outputs": [],
   "source": [
    "result_map = np.loadtxt('map/{}/results_{}_map_{}_{}.txt'.format(code,code,N,k), delimiter=', ')\n",
    "sigmas_map = result_map[:,0]\n",
    "nb_bits_map = result_map[:,1]\n",
    "nb_errors_map = result_map[:,2]\n",
    "\n",
    "nb_bits = np.loadtxt(f'eval_train-val/{code}/bits_{code}_{N}_{k}_{steps}.out', delimiter=', ' )\n",
    "nb_errors = np.loadtxt(f'eval_train-val/{code}/errors_{code}_{N}_{k}_{steps}.out', delimiter=', ' )"
   ]
  },
  {
   "cell_type": "code",
   "execution_count": 23,
   "metadata": {},
   "outputs": [
    {
     "data": {
      "text/plain": [
       "array([[26880., 26580., 26250., 26030., 25710., 25340., 25040., 24680.,\n",
       "        24420., 24210., 24020., 23740., 23490., 23260., 23050., 22740.,\n",
       "        22560., 22480., 22370., 22300.],\n",
       "       [18280., 17830., 17240., 16770., 16390., 15940., 15530., 15050.,\n",
       "        14580., 14100., 13710., 13280., 12950., 12770., 12620., 12410.,\n",
       "        12120., 11990., 11870., 11880.],\n",
       "       [14770., 14100., 13520., 13010., 12500., 11940., 11480., 10850.,\n",
       "        10400.,  9960.,  9610.,  9060.,  8700.,  8290.,  7950.,  7700.,\n",
       "         7420.,  7160.,  7040.,  6950.]])"
      ]
     },
     "execution_count": 23,
     "metadata": {},
     "output_type": "execute_result"
    }
   ],
   "source": [
    "nb_errors"
   ]
  },
  {
   "cell_type": "code",
   "execution_count": 24,
   "metadata": {},
   "outputs": [
    {
     "data": {
      "text/plain": [
       "array([[80000., 80000., 80000., 80000., 80000., 80000., 80000., 80000.,\n",
       "        80000., 80000., 80000., 80000., 80000., 80000., 80000., 80000.,\n",
       "        80000., 80000., 80000., 80000.],\n",
       "       [80000., 80000., 80000., 80000., 80000., 80000., 80000., 80000.,\n",
       "        80000., 80000., 80000., 80000., 80000., 80000., 80000., 80000.,\n",
       "        80000., 80000., 80000., 80000.],\n",
       "       [80000., 80000., 80000., 80000., 80000., 80000., 80000., 80000.,\n",
       "        80000., 80000., 80000., 80000., 80000., 80000., 80000., 80000.,\n",
       "        80000., 80000., 80000., 80000.]])"
      ]
     },
     "execution_count": 24,
     "metadata": {},
     "output_type": "execute_result"
    }
   ],
   "source": [
    "nb_bits"
   ]
  },
  {
   "cell_type": "code",
   "execution_count": 25,
   "metadata": {},
   "outputs": [],
   "source": [
    "nb_errors_full = [1.070100000000000000e+06, 9.934000000000000000e+05, 9.191000000000000000e+05, 8.442000000000000000e+05, 7.681000000000000000e+05, 6.969000000000000000e+05, 6.299000000000000000e+05, 5.604000000000000000e+05, 4.954000000000000000e+05, 4.348000000000000000e+05, 3.716000000000000000e+05, 3.152000000000000000e+05, 2.622000000000000000e+05, 2.136000000000000000e+05, 1.708000000000000000e+05, 1.331000000000000000e+05, 1.005000000000000000e+05, 7.100000000000000000e+04, 5.230000000000000000e+04, 3.610000000000000000e+04]\n",
    "nb_bits_full = [8.000000000000000000e+06, 8.000000000000000000e+06, 8.000000000000000000e+06, 8.000000000000000000e+06, 8.000000000000000000e+06, 8.000000000000000000e+06, 8.000000000000000000e+06, 8.000000000000000000e+06, 8.000000000000000000e+06, 8.000000000000000000e+06, 8.000000000000000000e+06, 8.000000000000000000e+06, 8.000000000000000000e+06, 8.000000000000000000e+06, 8.000000000000000000e+06, 8.000000000000000000e+06, 8.000000000000000000e+06, 8.000000000000000000e+06, 8.000000000000000000e+06, 8.000000000000000000e+06]"
   ]
  },
  {
   "cell_type": "markdown",
   "metadata": {
    "tags": []
   },
   "source": [
    "### Plot Bit-Error-Rate"
   ]
  },
  {
   "cell_type": "code",
   "execution_count": 27,
   "metadata": {
    "collapsed": false,
    "jupyter": {
     "outputs_hidden": false
    }
   },
   "outputs": [
    {
     "data": {
      "image/png": "[encoded data removed]",
      "text/plain": [
       "<Figure size 432x288 with 1 Axes>"
      ]
     },
     "metadata": {
      "needs_background": "light"
     },
     "output_type": "display_data"
    }
   ],
   "source": [
    "legend = []\n",
    "for step in steps:\n",
    "    plt.plot(10*np.log10(1/(2*sigmas**2)) - 10*np.log10(k/N), nb_errors[steps.index(step)]/nb_bits[steps.index(step)])\n",
    "    legend.append(f'train={step}, test={2**k-step}') \n",
    "\n",
    "plt.plot(10*np.log10(1/(2*sigmas**2)) - 10*np.log10(k/N), np.array(nb_errors_full)/np.array(nb_bits_full))\n",
    "legend.append(f'all-train, all-test')\n",
    "\n",
    "plt.plot(10*np.log10(1/(2*sigmas_map**2)) - 10*np.log10(k/N), nb_errors_map/nb_bits_map)\n",
    "legend.append('MAP')\n",
    "\n",
    "plt.legend(legend, loc=3)\n",
    "plt.yscale('log')\n",
    "plt.xlabel('$E_b/N_0$')\n",
    "plt.ylabel('BER')    \n",
    "plt.grid(True)\n",
    "plt.title(f'{code} codes')\n",
    "plt.show()"
   ]
  },
  {
   "cell_type": "markdown",
   "metadata": {
    "tags": []
   },
   "source": [
    "## Random codes"
   ]
  },
  {
   "cell_type": "code",
   "execution_count": 13,
   "metadata": {},
   "outputs": [],
   "source": [
    "code = 'random'              # type of code ('random' or 'polar')\n",
    "codewords, inputs = create_words(code)"
   ]
  },
  {
   "cell_type": "markdown",
   "metadata": {
    "tags": []
   },
   "source": [
    "### Train and test model"
   ]
  },
  {
   "cell_type": "code",
   "execution_count": 14,
   "metadata": {
    "collapsed": false,
    "jupyter": {
     "outputs_hidden": false
    }
   },
   "outputs": [
    {
     "name": "stdout",
     "output_type": "stream",
     "text": [
      "Model: \"sequential_4\"\n",
      "_________________________________________________________________\n",
      " Layer (type)                Output Shape              Param #   \n",
      "=================================================================\n",
      " modulator (Lambda)          (None, 16)                0         \n",
      "                                                                 \n",
      " noise (Lambda)              (None, 16)                0         \n",
      "                                                                 \n",
      " dense (Dense)               (None, 128)               2176      \n",
      "                                                                 \n",
      " dense_1 (Dense)             (None, 64)                8256      \n",
      "                                                                 \n",
      " dense_2 (Dense)             (None, 32)                2080      \n",
      "                                                                 \n",
      " dense_3 (Dense)             (None, 8)                 264       \n",
      "                                                                 \n",
      "=================================================================\n",
      "Total params: 12,776\n",
      "Trainable params: 12,776\n",
      "Non-trainable params: 0\n",
      "_________________________________________________________________\n"
     ]
    }
   ],
   "source": [
    "test_batch = 10000  \n",
    "num_words = 1000000      # multiple of test_batch\n",
    "\n",
    "SNR_dB_start_Eb = 0\n",
    "SNR_dB_stop_Eb = 5\n",
    "SNR_points = 20\n",
    "\n",
    "SNR_dB_start_Es = SNR_dB_start_Eb + 10*np.log10(k/N)\n",
    "SNR_dB_stop_Es = SNR_dB_stop_Eb + 10*np.log10(k/N)\n",
    "\n",
    "sigma_start = np.sqrt(1/(2*10**(SNR_dB_start_Es/10)))\n",
    "sigma_stop = np.sqrt(1/(2*10**(SNR_dB_stop_Es/10)))\n",
    "sigmas = np.linspace(sigma_start, sigma_stop, SNR_points)\n",
    "\n",
    "nb_errors = np.zeros((len(nb_epoch),len(sigmas)),dtype=int)\n",
    "nb_bits = np.zeros((len(nb_epoch),len(sigmas)),dtype=int)\n",
    "\n",
    "model.summary()"
   ]
  },
  {
   "cell_type": "code",
   "execution_count": 15,
   "metadata": {
    "collapsed": false,
    "jupyter": {
     "outputs_hidden": false
    }
   },
   "outputs": [
    {
     "name": "stdout",
     "output_type": "stream",
     "text": [
      "fit 1 of 5\n",
      "decode 1 of 5\n",
      "fit 2 of 5\n",
      "decode 2 of 5\n",
      "fit 3 of 5\n",
      "decode 3 of 5\n",
      "fit 4 of 5\n",
      "decode 4 of 5\n",
      "fit 5 of 5\n",
      "decode 5 of 5\n",
      "CPU times: user 36min 29s, sys: 3min 15s, total: 39min 45s\n",
      "Wall time: 34min 10s\n",
      "Parser   : 243 ms\n"
     ]
    }
   ],
   "source": [
    "%%time\n",
    "for epoch in nb_epoch:\n",
    "\n",
    "    print(f'fit {nb_epoch.index(epoch)+1} of {len(nb_epoch)}')\n",
    "    history = model.fit(codewords, inputs, batch_size=batch_size, epochs=epoch, verbose=0, shuffle=True)\n",
    "\n",
    "\n",
    "\n",
    "    print(f'decode {nb_epoch.index(epoch)+1} of {len(nb_epoch)}')\n",
    "    for i in range(0,len(sigmas)):\n",
    "\n",
    "        for ii in range(0,np.round(num_words/test_batch).astype(int)):\n",
    "\n",
    "            # Source\n",
    "            np.random.seed(0)\n",
    "            d_test = np.random.randint(0,2,size=(test_batch,k)) \n",
    "\n",
    "            # Encoder\n",
    "            if code == 'polar':\n",
    "                x_test = np.zeros((test_batch, N),dtype=bool)\n",
    "                u_test = np.zeros((test_batch, N),dtype=bool)\n",
    "                u_test[:,log_vector] = d_test\n",
    "\n",
    "                for iii in range(0,test_batch):\n",
    "                    x_test[iii] = polar_transform_iter(u_test[iii])\n",
    "\n",
    "            elif code == 'random':\n",
    "                x_test = np.zeros((test_batch, N),dtype=bool)\n",
    "                for iii in range(0,test_batch):\n",
    "                    x_test[iii] = codewords[bin2int(d_test[iii])]\n",
    "\n",
    "            # Modulator (BPSK)\n",
    "            s_test = -2*x_test + 1\n",
    "\n",
    "            # Channel (AWGN)\n",
    "            y_test = s_test + sigmas[i]*np.random.standard_normal(s_test.shape)\n",
    "\n",
    "            if LLR:\n",
    "                y_test = 2*y_test/(sigmas[i]**2)\n",
    "\n",
    "            # Decoder\n",
    "            nb_errors[nb_epoch.index(epoch)][i] += decoder.evaluate(y_test, d_test, batch_size=test_batch, verbose=0)[1]\n",
    "            nb_bits[nb_epoch.index(epoch)][i] += d_test.size\n",
    "            \n",
    "            np.savetxt(f'eval_number_of_training_epochs/{code}/bits_{code}_{N}_{k}_{nb_epoch}.out', nb_bits, delimiter=', ')\n",
    "            np.savetxt(f'eval_number_of_training_epochs/{code}/errors_{code}_{N}_{k}_{nb_epoch}.out', nb_errors, delimiter=', ')"
   ]
  },
  {
   "cell_type": "markdown",
   "metadata": {
    "tags": []
   },
   "source": [
    "### Load data"
   ]
  },
  {
   "cell_type": "code",
   "execution_count": 16,
   "metadata": {},
   "outputs": [],
   "source": [
    "result_map = np.loadtxt('map/{}/results_{}_map_{}_{}.txt'.format(code,code,N,k), delimiter=', ')\n",
    "sigmas_map = result_map[:,0]\n",
    "nb_bits_map = result_map[:,1]\n",
    "nb_errors_map = result_map[:,2]\n",
    "\n",
    "nb_bits = np.loadtxt(f'eval_number_of_training_epochs/{code}/bits_{code}_{N}_{k}_{nb_epoch}.out', delimiter=', ' )\n",
    "nb_errors = np.loadtxt(f'eval_number_of_training_epochs/{code}/errors_{code}_{N}_{k}_{nb_epoch}.out', delimiter=', ' )"
   ]
  },
  {
   "cell_type": "markdown",
   "metadata": {
    "tags": []
   },
   "source": [
    "### Plot Bit-Error-Rate"
   ]
  },
  {
   "cell_type": "code",
   "execution_count": 17,
   "metadata": {
    "collapsed": false,
    "jupyter": {
     "outputs_hidden": false
    }
   },
   "outputs": [
    {
     "data": {
      "image/png": "[encoded data removed]",
      "text/plain": [
       "<Figure size 432x288 with 1 Axes>"
      ]
     },
     "metadata": {
      "needs_background": "light"
     },
     "output_type": "display_data"
    }
   ],
   "source": [
    "legend = []\n",
    "for epoch in nb_epoch:\n",
    "    plt.plot(10*np.log10(1/(2*sigmas**2)) - 10*np.log10(k/N), nb_errors[nb_epoch.index(epoch)]/nb_bits[nb_epoch.index(epoch)])\n",
    "    legend.append(f'$M_ep={epoch}$') \n",
    "\n",
    "plt.plot(10*np.log10(1/(2*sigmas_map**2)) - 10*np.log10(k/N), nb_errors_map/nb_bits_map)\n",
    "legend.append('MAP')\n",
    "\n",
    "plt.legend(legend, loc=3)\n",
    "plt.yscale('log')\n",
    "plt.xlabel('$E_b/N_0$')\n",
    "plt.ylabel('BER')    \n",
    "plt.grid(True)\n",
    "plt.title(f'{code} codes')\n",
    "plt.show()"
   ]
  },
  {
   "cell_type": "code",
   "execution_count": null,
   "metadata": {},
   "outputs": [],
   "source": []
  }
 ],
 "metadata": {
  "kernelspec": {
   "display_name": "Python 3",
   "language": "python",
   "name": "python3"
  },
  "language_info": {
   "codemirror_mode": {
    "name": "ipython",
    "version": 3
   },
   "file_extension": ".py",
   "mimetype": "text/x-python",
   "name": "python",
   "nbconvert_exporter": "python",
   "pygments_lexer": "ipython3",
   "version": "3.8.8"
  }
 },
 "nbformat": 4,
 "nbformat_minor": 4
}
