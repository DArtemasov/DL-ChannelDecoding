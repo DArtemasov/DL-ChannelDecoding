{
 "cells": [
  {
   "cell_type": "code",
   "execution_count": 161,
   "metadata": {
    "collapsed": false,
    "jupyter": {
     "outputs_hidden": false
    }
   },
   "outputs": [
    {
     "data": {
      "text/plain": [
       "[]"
      ]
     },
     "execution_count": 161,
     "metadata": {},
     "output_type": "execute_result"
    }
   ],
   "source": [
    "import numpy as np\n",
    "import tensorflow as tf\n",
    "from keras.models import Sequential\n",
    "from keras.layers.core import Dense, Lambda\n",
    "from keras.layers import LSTM, Embedding, Bidirectional, BatchNormalization, SimpleRNN, Input\n",
    "from keras import backend as K\n",
    "import matplotlib.pyplot as plt\n",
    "%matplotlib inline\n",
    "%config InlineBackend.figure_format='retina'\n",
    "tf.config.list_physical_devices('GPU')"
   ]
  },
  {
   "cell_type": "markdown",
   "metadata": {
    "tags": []
   },
   "source": [
    "# Base parameters"
   ]
  },
  {
   "cell_type": "code",
   "execution_count": 38,
   "metadata": {
    "tags": []
   },
   "outputs": [],
   "source": [
    "k = 8                       # number of information bits\n",
    "N = 16                      # code length\n",
    "\n",
    "nb_epoch = 2**14 \n",
    "design = [128, 64, 32]      # each list entry defines the number of nodes in a layer\n",
    "batch_size = 256            # size of batches for calculation the gradient\n",
    "LLR = False                 # 'True' enables the log-likelihood-ratio layer\n",
    "optimizer = 'adam'           \n",
    "loss = 'mse'                # or 'binary_crossentropy'\n",
    "arch = ['lstm-128-64-32', 'dense-128-64-32']\n",
    "\n",
    "train_SNR_Eb = 1            # training-Eb/No\n",
    "train_SNR_Es = train_SNR_Eb + 10*np.log10(k/N)\n",
    "train_sigma = np.sqrt(1/(2*10**(train_SNR_Es/10))).tolist()"
   ]
  },
  {
   "cell_type": "markdown",
   "metadata": {
    "tags": []
   },
   "source": [
    "# Define NN model"
   ]
  },
  {
   "cell_type": "code",
   "execution_count": 188,
   "metadata": {
    "tags": []
   },
   "outputs": [],
   "source": [
    "def modulateBPSK(x):\n",
    "    return -2*x +1;\n",
    "\n",
    "def addNoise(x, sigma):\n",
    "    w = K.random_normal(K.shape(x), mean=0.0, stddev=sigma)        # std was changed to stddev \n",
    "    return x + w\n",
    "\n",
    "def ber(y_true, y_pred):\n",
    "    return K.mean(K.not_equal(y_true, K.round(y_pred)))    \n",
    "\n",
    "def return_output_shape(input_shape):  \n",
    "    return input_shape\n",
    "\n",
    "def compose_model(layers):\n",
    "    model = Sequential()\n",
    "    for layer in layers:\n",
    "        model.add(layer)\n",
    "    return model\n",
    "\n",
    "def log_likelihood_ratio(x, sigma):   \n",
    "    return 2*x/np.float32(sigma**2)\n",
    "\n",
    "def errors(y_true, y_pred):\n",
    "    return K.sum(int(K.not_equal(y_true, K.round(y_pred))))"
   ]
  },
  {
   "cell_type": "markdown",
   "metadata": {
    "tags": []
   },
   "source": [
    "# Data Generation"
   ]
  },
  {
   "cell_type": "code",
   "execution_count": 40,
   "metadata": {
    "tags": []
   },
   "outputs": [],
   "source": [
    "def half_adder(a,b):\n",
    "    s = a ^ b\n",
    "    c = a & b\n",
    "    return s,c\n",
    "\n",
    "def full_adder(a,b,c):\n",
    "    s = (a ^ b) ^ c\n",
    "    c = (a & b) | (c & (a ^ b))\n",
    "    return s,c\n",
    "\n",
    "def add_bool(a,b):\n",
    "    if len(a) != len(b):\n",
    "        raise ValueError('arrays with different length')\n",
    "    k = len(a)\n",
    "    s = np.zeros(k,dtype=bool)\n",
    "    c = False\n",
    "    for i in reversed(range(0,k)):\n",
    "        s[i], c = full_adder(a[i],b[i],c)    \n",
    "    if c:\n",
    "        warnings.warn(\"Addition overflow!\")\n",
    "    return s\n",
    "\n",
    "def inc_bool(a):\n",
    "    k = len(a)\n",
    "    increment = np.hstack((np.zeros(k-1,dtype=bool), np.ones(1,dtype=bool)))\n",
    "    a = add_bool(a,increment)\n",
    "    return a\n",
    "\n",
    "def bitrevorder(x):\n",
    "    m = np.amax(x)\n",
    "    n = np.ceil(np.log2(m)).astype(int)\n",
    "    for i in range(0,len(x)):\n",
    "        x[i] = int('{:0{n}b}'.format(x[i],n=n)[::-1],2)  \n",
    "    return x\n",
    "\n",
    "def int2bin(x,N):\n",
    "    if isinstance(x, list) or isinstance(x, np.ndarray):\n",
    "        binary = np.zeros((len(x),N),dtype='bool')\n",
    "        for i in range(0,len(x)):\n",
    "            binary[i] = np.array([int(j) for j in bin(x[i])[2:].zfill(N)])\n",
    "    else:\n",
    "        binary = np.array([int(j) for j in bin(x)[2:].zfill(N)],dtype=bool)\n",
    "    \n",
    "    return binary\n",
    "\n",
    "def bin2int(b):\n",
    "    if isinstance(b[0], list):\n",
    "        integer = np.zeros((len(b),),dtype=int)\n",
    "        for i in range(0,len(b)):\n",
    "            out = 0\n",
    "            for bit in b[i]:\n",
    "                out = (out << 1) | bit\n",
    "            integer[i] = out\n",
    "    elif isinstance(b, np.ndarray):\n",
    "        if len(b.shape) == 1:\n",
    "            out = 0\n",
    "            for bit in b:\n",
    "                out = (out << 1) | bit\n",
    "            integer = out     \n",
    "        else:\n",
    "            integer = np.zeros((b.shape[0],),dtype=int)\n",
    "            for i in range(0,b.shape[0]):\n",
    "                out = 0\n",
    "                for bit in b[i]:\n",
    "                    out = (out << 1) | bit\n",
    "                integer[i] = out\n",
    "        \n",
    "    return integer\n",
    "\n",
    "def polar_design_awgn(N, k, design_snr_dB):  \n",
    "        \n",
    "    S = 10**(design_snr_dB/10)\n",
    "    z0 = np.zeros(N)\n",
    "\n",
    "    z0[0] = np.exp(-S)\n",
    "    for j in range(1,int(np.log2(N))+1):\n",
    "        u = 2**j\n",
    "        for t in range(0,int(u/2)):\n",
    "            T = z0[t]\n",
    "            z0[t] = 2*T - T**2     # upper channel\n",
    "            z0[int(u/2)+t] = T**2  # lower channel\n",
    "        \n",
    "    # sort into increasing order\n",
    "    idx = np.argsort(z0)\n",
    "        \n",
    "    # select k best channels\n",
    "    idx = np.sort(bitrevorder(idx[0:k]))\n",
    "    \n",
    "    A = np.zeros(N, dtype=bool)\n",
    "    A[idx] = True\n",
    "        \n",
    "    return A\n",
    "\n",
    "def polar_transform_iter(u):\n",
    "\n",
    "    N = len(u)\n",
    "    n = 1\n",
    "    x = np.copy(u)\n",
    "    stages = np.log2(N).astype(int)\n",
    "    for s in range(0,stages):\n",
    "        i = 0\n",
    "        while i < N:\n",
    "            for j in range(0,n):\n",
    "                idx = i+j\n",
    "                x[idx] = x[idx] ^ x[idx+n]\n",
    "            i=i+2*n\n",
    "        n=2*n\n",
    "    return x"
   ]
  },
  {
   "cell_type": "code",
   "execution_count": 224,
   "metadata": {
    "tags": []
   },
   "outputs": [],
   "source": [
    "def create_words(code):\n",
    "    # Create all possible information words\n",
    "    d = np.zeros((2**k,k),dtype=bool)\n",
    "    for i in range(1,2**k):\n",
    "        d[i]= inc_bool(d[i-1])\n",
    "\n",
    "    # Create sets of all possible codewords (codebook)\n",
    "    if code == 'polar':   \n",
    "        # TODO vertical dimention = batch sizes\n",
    "        A = polar_design_awgn(N, k, design_snr_dB=0)  # logical vector indicating the nonfrozen bit locations \n",
    "        x = np.zeros((2**k, N),dtype=bool)\n",
    "        u = np.zeros((2**k, N),dtype=bool)\n",
    "        u[:,A] = d\n",
    "\n",
    "        for i in range(0,2**k):\n",
    "            x[i] = polar_transform_iter(u[i])\n",
    "        return x, d, A\n",
    "\n",
    "    elif code == 'random':\n",
    "\n",
    "        np.random.seed(4267)   # for a 16bit Random Code (r=0.5) with Hamming distance >= 2\n",
    "        x = np.random.randint(0,2,size=(2**k,N), dtype=bool)\n",
    "        return x, d"
   ]
  },
  {
   "cell_type": "markdown",
   "metadata": {
    "tags": []
   },
   "source": [
    "# Define best train SNR"
   ]
  },
  {
   "cell_type": "code",
   "execution_count": 261,
   "metadata": {},
   "outputs": [],
   "source": [
    "output_shape_test = (0, 0, 0)"
   ]
  },
  {
   "cell_type": "code",
   "execution_count": 262,
   "metadata": {},
   "outputs": [],
   "source": [
    "def reshape_codebook(codebook_not_real_one):\n",
    "    global N\n",
    "    global output_shape_test\n",
    "    output_shape_test = tf.reshape(codebook_not_real_one, (-1, N, 1))\n",
    "    return output_shape_test"
   ]
  },
  {
   "cell_type": "code",
   "execution_count": 276,
   "metadata": {
    "collapsed": false,
    "jupyter": {
     "outputs_hidden": false
    }
   },
   "outputs": [],
   "source": [
    "def update_model(current_arch):\n",
    "    # Define modulator\n",
    "    modulator_layers = [Lambda(modulateBPSK, \n",
    "                              input_shape=(N,), output_shape=return_output_shape, name=\"modulator\")]\n",
    "    modulator = compose_model(modulator_layers)\n",
    "    modulator.compile(optimizer=optimizer, loss=loss)\n",
    "\n",
    "    # Define noise\n",
    "    noise_layers = [Lambda(addNoise, arguments={'sigma':train_sigma}, \n",
    "                           input_shape=(N,), output_shape=return_output_shape, name=\"noise\")]\n",
    "    noise = compose_model(noise_layers)\n",
    "    noise.compile(optimizer=optimizer, loss=loss)\n",
    "    \n",
    "    #Reshape layer\n",
    "    reshape_layer = [Lambda(reshape_codebook,\n",
    "                            input_shape = (N,), output_shape = output_shape_test, name = 'reshape')]\n",
    "    reshape = compose_model(reshape_layer)\n",
    "    reshape.compile(optimizer=optimizer, loss=loss)\n",
    "\n",
    "    # Define LLR\n",
    "    llr_layers = [Lambda(log_likelihood_ratio, arguments={'sigma':train_sigma}, \n",
    "                         input_shape=(N,), output_shape=return_output_shape, name=\"LLR\")]\n",
    "    llr = compose_model(llr_layers)\n",
    "    llr.compile(optimizer=optimizer, loss=loss)\n",
    "    \n",
    "    \n",
    "    # Define decoder\n",
    "    if current_arch == 'dense-128-64-32':\n",
    "        decoder_layers = [Dense(design[0], activation='relu', input_shape=(N,))]\n",
    "        for i in range(1,len(design)):\n",
    "            decoder_layers.append(Dense(design[i], activation='relu'))\n",
    "        decoder_layers.append(Dense(k, activation='sigmoid'))\n",
    "        decoder = compose_model(decoder_layers)\n",
    "        decoder.compile(optimizer=optimizer, loss=loss, metrics=[errors])\n",
    "\n",
    "    elif current_arch == 'lstm-128-64-32':\n",
    "        decoder_layers = [Lambda(reshape_codebook,\n",
    "                            input_shape = (N,), output_shape = output_shape_test, name = 'reshape'),\n",
    "                          LSTM(16),\n",
    "                          Dense(k, activation='sigmoid')]\n",
    "        decoder = compose_model(decoder_layers)\n",
    "        decoder.compile(optimizer=optimizer, loss=loss, metrics=[errors])\n",
    "        \n",
    "\n",
    "    # Define model\n",
    "    if LLR:\n",
    "        model_layers = modulator_layers + noise_layers  + llr_layers + decoder_layers\n",
    "    else:\n",
    "        model_layers = modulator_layers + noise_layers  + decoder_layers\n",
    "#         model_layers = decoder_layers\n",
    "    model = compose_model(model_layers)\n",
    "    model.compile(optimizer=optimizer, loss=loss, metrics=[ber])\n",
    "    return model, decoder"
   ]
  },
  {
   "cell_type": "code",
   "execution_count": 277,
   "metadata": {},
   "outputs": [
    {
     "name": "stdout",
     "output_type": "stream",
     "text": [
      "Tensor(\"modulator/add:0\", shape=(None, 16), dtype=float32)\n",
      "Tensor(\"modulator/add:0\", shape=(None, 16), dtype=float32)\n",
      "Model: \"sequential_446\"\n",
      "_________________________________________________________________\n",
      " Layer (type)                Output Shape              Param #   \n",
      "=================================================================\n",
      " modulator (Lambda)          (None, 16)                0         \n",
      "                                                                 \n",
      " noise (Lambda)              (None, 16)                0         \n",
      "                                                                 \n",
      " reshape (Lambda)            (None, 16, 1)             0         \n",
      "                                                                 \n",
      " lstm_123 (LSTM)             (None, 16)                1152      \n",
      "                                                                 \n",
      " dense_105 (Dense)           (None, 8)                 136       \n",
      "                                                                 \n",
      "=================================================================\n",
      "Total params: 1,288\n",
      "Trainable params: 1,288\n",
      "Non-trainable params: 0\n",
      "_________________________________________________________________\n"
     ]
    }
   ],
   "source": [
    "model, decoder = update_model('lstm-128-64-32')\n",
    "model.summary()"
   ]
  },
  {
   "cell_type": "code",
   "execution_count": 278,
   "metadata": {},
   "outputs": [
    {
     "name": "stdout",
     "output_type": "stream",
     "text": [
      "Model: \"sequential_445\"\n",
      "_________________________________________________________________\n",
      " Layer (type)                Output Shape              Param #   \n",
      "=================================================================\n",
      " reshape (Lambda)            (None, 16, 1)             0         \n",
      "                                                                 \n",
      " lstm_123 (LSTM)             (None, 16)                1152      \n",
      "                                                                 \n",
      " dense_105 (Dense)           (None, 8)                 136       \n",
      "                                                                 \n",
      "=================================================================\n",
      "Total params: 1,288\n",
      "Trainable params: 1,288\n",
      "Non-trainable params: 0\n",
      "_________________________________________________________________\n"
     ]
    }
   ],
   "source": [
    "decoder.summary()"
   ]
  },
  {
   "cell_type": "code",
   "execution_count": 279,
   "metadata": {},
   "outputs": [
    {
     "name": "stdout",
     "output_type": "stream",
     "text": [
      "Tensor(\"sequential_446/modulator/add:0\", shape=(256, 16), dtype=float32)\n",
      "Tensor(\"sequential_446/modulator/add:0\", shape=(256, 16), dtype=float32)\n"
     ]
    }
   ],
   "source": [
    "history = model.fit(codewords, inputs, batch_size=batch_size, epochs=nb_epoch, verbose=0, shuffle=True)"
   ]
  },
  {
   "cell_type": "code",
   "execution_count": 280,
   "metadata": {},
   "outputs": [],
   "source": [
    "for i in range(0,len(sigmas)):\n",
    "\n",
    "    for ii in range(0,np.round(num_words/test_batch).astype(int)):\n",
    "\n",
    "        # Source\n",
    "        np.random.seed(0)\n",
    "        d_test = np.random.randint(0,2,size=(test_batch,k)) \n",
    "\n",
    "        # Encoder\n",
    "        if code == 'polar':\n",
    "            x_test = np.zeros((test_batch, N),dtype=bool)\n",
    "            u_test = np.zeros((test_batch, N),dtype=bool)\n",
    "            u_test[:,log_vector] = d_test\n",
    "\n",
    "            for iii in range(0,test_batch):\n",
    "                x_test[iii] = polar_transform_iter(u_test[iii])\n",
    "\n",
    "        elif code == 'random':\n",
    "            x_test = np.zeros((test_batch, N),dtype=bool)\n",
    "            for iii in range(0,test_batch):\n",
    "                x_test[iii] = x[bin2int(d_test[iii])]\n",
    "\n",
    "        # Modulator (BPSK)\n",
    "        s_test = -2*x_test + 1\n",
    "\n",
    "        # Channel (AWGN)\n",
    "        y_test = s_test + sigmas[i]*np.random.standard_normal(s_test.shape)\n",
    "\n",
    "        if LLR:\n",
    "            y_test = 2*y_test/(sigmas[i]**2)\n",
    "\n",
    "        # Decoder\n",
    "        nb_bits[0][i] += d_test.size\n",
    "        nb_errors[0][i] += decoder.evaluate(y_test, d_test, batch_size=test_batch, verbose=0)[1]\n",
    "\n",
    "        np.savetxt(f'eval_nn_arch/{code}/bits_{code}_{N}_{k}.out', nb_bits, delimiter=', ')\n",
    "        np.savetxt(f'eval_nn_arch/{code}/errors_{code}_{N}_{k}.out', nb_errors, delimiter=', ')"
   ]
  },
  {
   "cell_type": "markdown",
   "metadata": {
    "tags": []
   },
   "source": [
    "## Polar codes"
   ]
  },
  {
   "cell_type": "code",
   "execution_count": 185,
   "metadata": {},
   "outputs": [],
   "source": [
    "code = 'polar'              # type of code ('random' or 'polar')\n",
    "codewords, inputs, log_vector = create_words(code)"
   ]
  },
  {
   "cell_type": "markdown",
   "metadata": {
    "tags": []
   },
   "source": [
    "### Train and test model"
   ]
  },
  {
   "cell_type": "code",
   "execution_count": 186,
   "metadata": {
    "collapsed": false,
    "jupyter": {
     "outputs_hidden": false
    }
   },
   "outputs": [],
   "source": [
    "test_batch = 1000  \n",
    "num_words = 10000      # multiple of test_batch\n",
    "\n",
    "SNR_dB_start_Eb = 0\n",
    "SNR_dB_stop_Eb = 5\n",
    "SNR_points = 20\n",
    "\n",
    "SNR_dB_start_Es = SNR_dB_start_Eb + 10*np.log10(k/N)\n",
    "SNR_dB_stop_Es = SNR_dB_stop_Eb + 10*np.log10(k/N)\n",
    "\n",
    "sigma_start = np.sqrt(1/(2*10**(SNR_dB_start_Es/10)))\n",
    "sigma_stop = np.sqrt(1/(2*10**(SNR_dB_stop_Es/10)))\n",
    "sigmas = np.linspace(sigma_start, sigma_stop, SNR_points)\n",
    "\n",
    "nb_errors = np.zeros((len(arch),len(sigmas)),dtype=int)\n",
    "nb_bits = np.zeros((len(arch),len(sigmas)),dtype=int)"
   ]
  },
  {
   "cell_type": "code",
   "execution_count": null,
   "metadata": {
    "tags": []
   },
   "outputs": [],
   "source": [
    "%%time\n",
    "for current_arch in arch:\n",
    "    model, decoder = update_model(current_arch)\n",
    "    \n",
    "    print(f'fit {arch.index(current_arch)+1} of {len(arch)}')\n",
    "    history = model.fit(codewords, inputs, batch_size=batch_size, epochs=nb_epoch, verbose=0, shuffle=True)\n",
    "\n",
    "\n",
    "    print(f'decode {arch.index(current_arch)+1} of {len(arch)}')\n",
    "    for i in range(0,len(sigmas)):\n",
    "\n",
    "        for ii in range(0,np.round(num_words/test_batch).astype(int)):\n",
    "\n",
    "            # Source\n",
    "            np.random.seed(0)\n",
    "            d_test = np.random.randint(0,2,size=(test_batch,k)) \n",
    "\n",
    "            # Encoder\n",
    "            if code == 'polar':\n",
    "                x_test = np.zeros((test_batch, N),dtype=bool)\n",
    "                u_test = np.zeros((test_batch, N),dtype=bool)\n",
    "                u_test[:,log_vector] = d_test\n",
    "\n",
    "                for iii in range(0,test_batch):\n",
    "                    x_test[iii] = polar_transform_iter(u_test[iii])\n",
    "\n",
    "            elif code == 'random':\n",
    "                x_test = np.zeros((test_batch, N),dtype=bool)\n",
    "                for iii in range(0,test_batch):\n",
    "                    x_test[iii] = x[bin2int(d_test[iii])]\n",
    "\n",
    "            # Modulator (BPSK)\n",
    "            s_test = -2*x_test + 1\n",
    "\n",
    "            # Channel (AWGN)\n",
    "            y_test = s_test + sigmas[i]*np.random.standard_normal(s_test.shape)\n",
    "\n",
    "            if LLR:\n",
    "                y_test = 2*y_test/(sigmas[i]**2)\n",
    "\n",
    "            # Decoder\n",
    "            nb_bits[arch.index(current_arch)][i] += d_test.size\n",
    "            nb_errors[arch.index(current_arch)][i] += decoder.evaluate(y_test, d_test, batch_size=test_batch, verbose=0)[1]\n",
    "    \n",
    "            np.savetxt(f'eval_nn_arch/{code}/bits_{code}_{N}_{k}.out', nb_bits, delimiter=', ')\n",
    "            np.savetxt(f'eval_nn_arch/{code}/errors_{code}_{N}_{k}.out', nb_errors, delimiter=', ')"
   ]
  },
  {
   "cell_type": "markdown",
   "metadata": {
    "tags": []
   },
   "source": [
    "### Load data"
   ]
  },
  {
   "cell_type": "code",
   "execution_count": 281,
   "metadata": {},
   "outputs": [],
   "source": [
    "result_map = np.loadtxt('map/{}/results_{}_map_{}_{}.txt'.format(code,code,N,k), delimiter=', ')\n",
    "sigmas_map = result_map[:,0]\n",
    "nb_bits_map = result_map[:,1]\n",
    "nb_errors_map = result_map[:,2]\n",
    "\n",
    "nb_bits = np.loadtxt(f'eval_nn_arch/{code}/bits_{code}_{N}_{k}.out', delimiter=', ' )\n",
    "nb_errors = np.loadtxt(f'eval_nn_arch/{code}/errors_{code}_{N}_{k}.out', delimiter=', ' )"
   ]
  },
  {
   "cell_type": "markdown",
   "metadata": {
    "tags": []
   },
   "source": [
    "### Plot Bit-Error-Rate"
   ]
  },
  {
   "cell_type": "code",
   "execution_count": 282,
   "metadata": {
    "collapsed": false,
    "jupyter": {
     "outputs_hidden": false
    }
   },
   "outputs": [
    {
     "name": "stderr",
     "output_type": "stream",
     "text": [
      "<ipython-input-282-bad63811b53e>:3: RuntimeWarning: invalid value encountered in true_divide\n",
      "  plt.plot(10*np.log10(1/(2*sigmas**2)) - 10*np.log10(k/N), nb_errors[arch.index(current_arch)]/nb_bits[arch.index(current_arch)])\n"
     ]
    },
    {
     "data": {
      "image/png": "[encoded data removed]",
      "text/plain": [
       "<Figure size 432x288 with 1 Axes>"
      ]
     },
     "metadata": {
      "image/png": {
       "height": 278,
       "width": 393
      },
      "needs_background": "light"
     },
     "output_type": "display_data"
    }
   ],
   "source": [
    "legend = []\n",
    "for current_arch in arch:\n",
    "    plt.plot(10*np.log10(1/(2*sigmas**2)) - 10*np.log10(k/N), nb_errors[arch.index(current_arch)]/nb_bits[arch.index(current_arch)])\n",
    "    legend.append(f'architecture={current_arch}') \n",
    "\n",
    "plt.plot(10*np.log10(1/(2*sigmas_map**2)) - 10*np.log10(k/N), nb_errors_map/nb_bits_map)\n",
    "legend.append('MAP')\n",
    "\n",
    "plt.legend(legend, loc=3)\n",
    "plt.yscale('log')\n",
    "plt.xlabel('$E_b/N_0$')\n",
    "plt.ylabel('BER')    \n",
    "plt.grid(True)\n",
    "plt.title(f'{code} codes')\n",
    "plt.show()"
   ]
  },
  {
   "cell_type": "markdown",
   "metadata": {
    "tags": []
   },
   "source": [
    "## Random codes"
   ]
  },
  {
   "cell_type": "code",
   "execution_count": null,
   "metadata": {},
   "outputs": [],
   "source": [
    "code = 'random'              # type of code ('random' or 'polar')\n",
    "codewords, inputs = create_words(code)"
   ]
  },
  {
   "cell_type": "markdown",
   "metadata": {
    "tags": []
   },
   "source": [
    "### Train and test model"
   ]
  },
  {
   "cell_type": "code",
   "execution_count": 13,
   "metadata": {
    "collapsed": false,
    "jupyter": {
     "outputs_hidden": false
    }
   },
   "outputs": [],
   "source": [
    "test_batch = 10000  \n",
    "num_words = 1000000      # multiple of test_batch\n",
    "\n",
    "SNR_dB_start_Eb = 0\n",
    "SNR_dB_stop_Eb = 5\n",
    "SNR_points = 20\n",
    "\n",
    "SNR_dB_start_Es = SNR_dB_start_Eb + 10*np.log10(k/N)\n",
    "SNR_dB_stop_Es = SNR_dB_stop_Eb + 10*np.log10(k/N)\n",
    "\n",
    "sigma_start = np.sqrt(1/(2*10**(SNR_dB_start_Es/10)))\n",
    "sigma_stop = np.sqrt(1/(2*10**(SNR_dB_stop_Es/10)))\n",
    "sigmas = np.linspace(sigma_start, sigma_stop, SNR_points)\n",
    "\n",
    "nb_errors = np.zeros((len(LLR),len(sigmas)),dtype=int)\n",
    "nb_bits = np.zeros((len(LLR),len(sigmas)),dtype=int)"
   ]
  },
  {
   "cell_type": "code",
   "execution_count": 17,
   "metadata": {
    "tags": []
   },
   "outputs": [
    {
     "name": "stdout",
     "output_type": "stream",
     "text": [
      "fit 1 of 2\n",
      "decode 1 of 2\n",
      "fit 2 of 2\n",
      "decode 2 of 2\n",
      "CPU times: user 10min 14s, sys: 36.9 s, total: 10min 51s\n",
      "Wall time: 11min 9s\n"
     ]
    }
   ],
   "source": [
    "%%time\n",
    "# inputs - words before coding \n",
    "for LLR_layer in LLR:\n",
    "    model, decoder = update_model(LLR_layer)\n",
    "    \n",
    "    print(f'fit {LLR.index(LLR_layer)+1} of {len(LLR)}')\n",
    "    history = model.fit(codewords, inputs, batch_size=batch_size, epochs=nb_epoch, verbose=0, shuffle=True)\n",
    "\n",
    "\n",
    "    print(f'decode {LLR.index(LLR_layer)+1} of {len(LLR)}')\n",
    "    for i in range(0,len(sigmas)):\n",
    "\n",
    "        for ii in range(0,np.round(num_words/test_batch).astype(int)):\n",
    "\n",
    "            # Source\n",
    "            np.random.seed(0)\n",
    "            d_test = np.random.randint(0,2,size=(test_batch,k)) \n",
    "\n",
    "            # Encoder\n",
    "            if code == 'polar':\n",
    "                x_test = np.zeros((test_batch, N),dtype=bool)\n",
    "                u_test = np.zeros((test_batch, N),dtype=bool)\n",
    "                u_test[:,log_vector] = d_test\n",
    "\n",
    "                for iii in range(0,test_batch):\n",
    "                    x_test[iii] = polar_transform_iter(u_test[iii])\n",
    "\n",
    "            elif code == 'random':\n",
    "                x_test = np.zeros((test_batch, N),dtype=bool)\n",
    "                for iii in range(0,test_batch):\n",
    "                    x_test[iii] = codewords[bin2int(d_test[iii])]\n",
    "\n",
    "            # Modulator (BPSK)\n",
    "            s_test = -2*x_test + 1\n",
    "\n",
    "            # Channel (AWGN)\n",
    "            y_test = s_test + sigmas[i]*np.random.standard_normal(s_test.shape)\n",
    "\n",
    "            if LLR:\n",
    "                y_test = 2*y_test/(sigmas[i]**2)\n",
    "\n",
    "            # Decoder\n",
    "            nb_bits[LLR.index(LLR_layer)][i] += d_test.size\n",
    "            nb_errors[LLR.index(LLR_layer)][i] аа+= decoder.evaluate(y_test, d_test, batch_size=test_batch, verbose=0)[1]\n",
    "    \n",
    "            np.savetxt(f'eval_LLR_layer/{code}/bits_{code}_{N}_{k}_{LLR}.out', nb_bits, delimiter=', ')\n",
    "            np.savetxt(f'eval_LLR_layer/{code}/errors_{code}_{N}_{k}_{LLR}.out', nb_errors, delimiter=', ')"
   ]
  },
  {
   "cell_type": "markdown",
   "metadata": {
    "tags": []
   },
   "source": [
    "### Load data"
   ]
  },
  {
   "cell_type": "code",
   "execution_count": 18,
   "metadata": {},
   "outputs": [],
   "source": [
    "result_map = np.loadtxt('map/{}/results_{}_map_{}_{}.txt'.format(code,code,N,k), delimiter=', ')\n",
    "sigmas_map = result_map[:,0]\n",
    "nb_bits_map = result_map[:,1]\n",
    "nb_errors_map = result_map[:,2]\n",
    "\n",
    "nb_bits = np.loadtxt(f'eval_LLR_layer/{code}/bits_{code}_{N}_{k}_{LLR}.out', delimiter=', ' )\n",
    "nb_errors = np.loadtxt(f'eval_LLR_layer/{code}/errors_{code}_{N}_{k}_{LLR}.out', delimiter=', ' )"
   ]
  },
  {
   "cell_type": "markdown",
   "metadata": {
    "tags": []
   },
   "source": [
    "### Plot Bit-Error-Rate"
   ]
  },
  {
   "cell_type": "code",
   "execution_count": 19,
   "metadata": {
    "collapsed": false,
    "jupyter": {
     "outputs_hidden": false
    }
   },
   "outputs": [
    {
     "data": {
      "image/png": "[encoded data removed]",
      "text/plain": [
       "<Figure size 432x288 with 1 Axes>"
      ]
     },
     "metadata": {
      "needs_background": "light"
     },
     "output_type": "display_data"
    }
   ],
   "source": [
    "legend = []\n",
    "for LLR_layer in LLR:\n",
    "    plt.plot(10*np.log10(1/(2*sigmas**2)) - 10*np.log10(k/N), nb_errors[LLR.index(LLR_layer)]/nb_bits[LLR.index(LLR_layer)])\n",
    "    legend.append(f'LLR={LLR_layer}') \n",
    "\n",
    "plt.plot(10*np.log10(1/(2*sigmas_map**2)) - 10*np.log10(k/N), nb_errors_map/nb_bits_map)\n",
    "legend.append('MAP')\n",
    "\n",
    "plt.legend(legend, loc=3)\n",
    "plt.yscale('log')\n",
    "plt.xlabel('$E_b/N_0$')\n",
    "plt.ylabel('BER')    \n",
    "plt.grid(True)\n",
    "plt.title(f'{code} codes')\n",
    "plt.show()"
   ]
  },
  {
   "cell_type": "code",
   "execution_count": 206,
   "metadata": {},
   "outputs": [],
   "source": [
    "sequence = np.array([0.1, 0.2, 0.3, 0.4, 0.5, 0.6, 0.7, 0.8, 0.9])\n",
    "# reshape input into [samples, timesteps, features]\n",
    "n_in = len(sequence)"
   ]
  },
  {
   "cell_type": "code",
   "execution_count": 207,
   "metadata": {},
   "outputs": [
    {
     "data": {
      "text/plain": [
       "array([0.1, 0.2, 0.3, 0.4, 0.5, 0.6, 0.7, 0.8, 0.9])"
      ]
     },
     "execution_count": 207,
     "metadata": {},
     "output_type": "execute_result"
    }
   ],
   "source": [
    "sequence"
   ]
  },
  {
   "cell_type": "code",
   "execution_count": null,
   "metadata": {},
   "outputs": [],
   "source": []
  },
  {
   "cell_type": "code",
   "execution_count": 208,
   "metadata": {},
   "outputs": [],
   "source": [
    "\n",
    "sequence = sequence.reshape((-1, n_in, 1))"
   ]
  },
  {
   "cell_type": "code",
   "execution_count": 209,
   "metadata": {},
   "outputs": [
    {
     "data": {
      "text/plain": [
       "array([[[0.1],\n",
       "        [0.2],\n",
       "        [0.3],\n",
       "        [0.4],\n",
       "        [0.5],\n",
       "        [0.6],\n",
       "        [0.7],\n",
       "        [0.8],\n",
       "        [0.9]]])"
      ]
     },
     "execution_count": 209,
     "metadata": {},
     "output_type": "execute_result"
    }
   ],
   "source": [
    "sequence"
   ]
  },
  {
   "cell_type": "code",
   "execution_count": 223,
   "metadata": {},
   "outputs": [],
   "source": [
    "def create_mix_epoch_validation(code_k, code_n, numOfWordSim, validation_snr, is_zeros_word):  # 把之前的几个函数做集成，开始做整套的编码过程\n",
    "    X = np.zeros([1, code_n], dtype=np.float32)\n",
    "    Y = np.zeros([1, code_k], dtype=np.int64)\n",
    "    #numOfWordSim батч сайз\n",
    "    x = np.zeros([numOfWordSim, code_n], dtype=np.int64)  # numOfWordSim这个玩意代入的参数是batch_size=120\n",
    "    u = np.zeros([numOfWordSim, code_n], dtype=np.int64)\n",
    "    d = np.zeros([numOfWordSim, code_k], dtype=np.int64)\n",
    "    for sf_i in validation_snr:\n",
    "        A = polar_design_awgn(code_n, code_k, sf_i)  # A是bool型的玩意，来判断这个信道是不是合适传输的\n",
    "        # print(\"A是这个东西\", A)\n",
    "        # #### 在这里加入循环！！！！！！！！！！！！！！\n",
    "        if is_zeros_word:  # 用全0数据训练\n",
    "            d = 0 * wordRandom.randint(0, 2, size=(numOfWordSim, code_k))  # max取值只能到2，不能到1\n",
    "        else:\n",
    "            # 把d变成1，2,3,4,5然后转化为2进制，从而遍历所有的情况，看看是不是我的网络设置有毛病\n",
    "            # for k in range(1, numOfWordSim):  # 在码长固定的情况下遍历所有的可能情况\n",
    "            #   d[k] = inc_bin(d[k - 1])\n",
    "            d = wordRandom.randint(0, 2, size=(numOfWordSim, code_k))  # 随机生成训练数据\n",
    "\n",
    "        # print(d)\n",
    "        # X[:,0]就是取所有行的第0个数据, X[:,1] 就是取所有行的第1个数据。\n",
    "        u[:, A] = d  # u = np.zeros([numOfWordSim, code_n],dtype=np.int64) ，没毛病，u就是120*64的维度，d是120*64的随机数，0,1的随机数，A是64的bool型\n",
    "        for i in range(0, numOfWordSim):\n",
    "            x[i] = polar_transform_iter(u[i])\n",
    "\n",
    "        snr_lin = 10.0 ** (sf_i / 10.0)\n",
    "        noise = np.sqrt(1.0 / (2.0 * snr_lin * code_rate))\n",
    "        X_p_i = random.normal(0.0, 1.0, x.shape) * noise + (1) * (1 - 2 * x)  # random.normal按照正态分布取随机数\n",
    "        x_llr_i = 2 * X_p_i / (noise ** 2)\n",
    "        X = np.vstack((X, x_llr_i))  # x_llr_i是接收端用来译码的对数似然信息\n",
    "        Y = np.vstack((Y, d))  # u是单纯的原始码\n",
    "\n",
    "    X = X[1:]  # X是编码加噪声后接收端处理过的对数似然信息\n",
    "    Y = Y[1:]  # Y是最初未编码的0,1信息\n",
    "\n",
    "    return X, Y"
   ]
  },
  {
   "cell_type": "code",
   "execution_count": 219,
   "metadata": {},
   "outputs": [],
   "source": [
    " X = np.zeros([1, 5], dtype=np.float32)\n",
    "Y = np.ones([1,5])"
   ]
  },
  {
   "cell_type": "code",
   "execution_count": 221,
   "metadata": {},
   "outputs": [],
   "source": [
    "x = np.vstack((X, Y))"
   ]
  },
  {
   "cell_type": "code",
   "execution_count": 222,
   "metadata": {},
   "outputs": [
    {
     "data": {
      "text/plain": [
       "array([[1., 1., 1., 1., 1.]])"
      ]
     },
     "execution_count": 222,
     "metadata": {},
     "output_type": "execute_result"
    }
   ],
   "source": [
    "x[1:]"
   ]
  },
  {
   "cell_type": "code",
   "execution_count": 216,
   "metadata": {},
   "outputs": [
    {
     "data": {
      "text/plain": [
       "array([[1, 2],\n",
       "       [3, 4]])"
      ]
     },
     "execution_count": 216,
     "metadata": {},
     "output_type": "execute_result"
    }
   ],
   "source": [
    "x"
   ]
  },
  {
   "cell_type": "code",
   "execution_count": 217,
   "metadata": {},
   "outputs": [
    {
     "data": {
      "text/plain": [
       "array([[3, 4]])"
      ]
     },
     "execution_count": 217,
     "metadata": {},
     "output_type": "execute_result"
    }
   ],
   "source": [
    "x[1:]"
   ]
  },
  {
   "cell_type": "code",
   "execution_count": null,
   "metadata": {},
   "outputs": [],
   "source": []
  }
 ],
 "metadata": {
  "kernelspec": {
   "display_name": "Python 3",
   "language": "python",
   "name": "python3"
  },
  "language_info": {
   "codemirror_mode": {
    "name": "ipython",
    "version": 3
   },
   "file_extension": ".py",
   "mimetype": "text/x-python",
   "name": "python",
   "nbconvert_exporter": "python",
   "pygments_lexer": "ipython3",
   "version": "3.8.8"
  }
 },
 "nbformat": 4,
 "nbformat_minor": 4
}
